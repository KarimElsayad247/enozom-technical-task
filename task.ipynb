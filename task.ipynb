{
 "cells": [
  {
   "cell_type": "code",
   "execution_count": 4,
   "metadata": {},
   "outputs": [],
   "source": [
    "import pandas as pd\n",
    "import numpy as np\n",
    "import hashlib"
   ]
  },
  {
   "cell_type": "code",
   "execution_count": 22,
   "metadata": {},
   "outputs": [
    {
     "name": "stdout",
     "output_type": "stream",
     "text": [
      "(37080, 10)\n"
     ]
    }
   ],
   "source": [
    "# I use pandas library to read the data because it makes it easier to work with tabular data\n",
    "data = pd.read_csv('annual-enterprise-survey-2020-financial-year-provisional-csv.csv')\n",
    "\n",
    "# I want to see how many rows there are, to make sure I split the table correctly\n",
    "print(data.shape)"
   ]
  },
  {
   "cell_type": "code",
   "execution_count": 23,
   "metadata": {},
   "outputs": [
    {
     "name": "stdout",
     "output_type": "stream",
     "text": [
      "37080\n"
     ]
    }
   ],
   "source": [
    "# I get the data of 3rd column which happens to be named 'Industry_code_NZSIOC'\n",
    "third_col = data['Industry_code_NZSIOC']\n",
    "\n",
    "# Should have the same amount of rows as before\n",
    "print(len(third_col))"
   ]
  },
  {
   "cell_type": "code",
   "execution_count": 24,
   "metadata": {},
   "outputs": [
    {
     "name": "stdout",
     "output_type": "stream",
     "text": [
      "18540\n"
     ]
    }
   ],
   "source": [
    "# now to get the odd rows. iloc() is a function that allows us to access rows by index\n",
    "# I assume odd rows start with the first column, which has index 0\n",
    "third_col_odd_rows =  third_col.iloc[::2]\n",
    "\n",
    "# I make sure it's half the previous length\n",
    "print(len(third_col_odd_rows))"
   ]
  },
  {
   "cell_type": "code",
   "execution_count": 28,
   "metadata": {},
   "outputs": [],
   "source": [
    "# next step is Concatenating the data. To do that I put them all in a list, \n",
    "# then use python method join() to Concatenate them\n",
    "# pandas method Series.tolist() makes this very convenient\n",
    "content = third_col_odd_rows.tolist()"
   ]
  },
  {
   "cell_type": "code",
   "execution_count": 30,
   "metadata": {},
   "outputs": [],
   "source": [
    "# now to create a string\n",
    "full_string = ''.join(content)"
   ]
  },
  {
   "cell_type": "code",
   "execution_count": 42,
   "metadata": {},
   "outputs": [
    {
     "name": "stdout",
     "output_type": "stream",
     "text": [
      "4DD595E104B509F219A56D3E52F409AC\n"
     ]
    }
   ],
   "source": [
    "# And finally, hasing\n",
    "result = hashlib.md5(full_string.encode())\n",
    "print(result.hexdigest().upper())"
   ]
  }
 ],
 "metadata": {
  "kernelspec": {
   "display_name": "Python 3",
   "language": "python",
   "name": "python3"
  },
  "language_info": {
   "codemirror_mode": {
    "name": "ipython",
    "version": 3
   },
   "file_extension": ".py",
   "mimetype": "text/x-python",
   "name": "python",
   "nbconvert_exporter": "python",
   "pygments_lexer": "ipython3",
   "version": "3.7.0"
  }
 },
 "nbformat": 4,
 "nbformat_minor": 4
}
